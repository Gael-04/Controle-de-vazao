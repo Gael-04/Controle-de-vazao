{
  "nbformat": 4,
  "nbformat_minor": 0,
  "metadata": {
    "colab": {
      "provenance": []
    },
    "kernelspec": {
      "name": "python3",
      "display_name": "Python 3"
    },
    "language_info": {
      "name": "python"
    }
  },
  "cells": [
    {
      "cell_type": "code",
      "source": [
        "\n",
        "def vazao_vol(volume, tempo):\n",
        "  vazao = volume / tempo\n",
        "  return vazao\n",
        "\n",
        "def vazao_mas(vaz_vol):\n",
        "  vazao = vaz_vol * 826.5\n",
        "  return vazao\n",
        "\n",
        "def vazao_pes(vaz_mas):\n",
        "  vazao = vaz_mas * 9.81\n",
        "  return vazao\n",
        "\n",
        "\n",
        "def pressao(altura):\n",
        "  pres_man = 9.81 * 826.5 * altura\n",
        "  return pres_man\n",
        "\n",
        "\n",
        "volume = float(input(\"Insira o volume escoado pelo sistema (em metros cúbicos): \"))\n",
        "tempo = float(input(\"Insira o tempo decorrido no escoamento desse volume (em segundos): \"))\n",
        "altura = float(input(\"Insira a altura da coluna de fluido no tanque (em metros): \"))\n",
        "\n",
        "pressao_man = pressao(altura)\n",
        "\n",
        "vaz_vol = vazao_vol(volume, tempo)\n",
        "vaz_mas = vazao_mas(vaz_vol)\n",
        "vaz_pes = vazao_pes(vaz_mas)\n",
        "\n",
        "print(f\"Pressão no tanque: {pressao_man: .2f} Pa\")\n",
        "print(f\"Vazão volumétrica: {vaz_vol: .2f} m^3/s\")\n",
        "print(f\"Vazão mássica: {vaz_mas: .2f} Kg/s\")\n",
        "print(f\"Vazão em peso: {vaz_pes: .2f} N/s\")\n",
        "\n",
        "if(vaz_vol > 1):\n",
        "  print(f\"Fechar válvula (vazão alta)\")\n",
        "else:\n",
        "  if(vaz_vol < 0.2):\n",
        "    print(f\"Abrir válvula (vazão baixa)\")\n",
        "  else:\n",
        "    print(f\"Vazão dentro dos padrões\")\n",
        "\n",
        "if(pressao_man > 99180):\n",
        "  print(f\"Liberar pressão pela válvula de escape (pressão no tanque alta)\")\n",
        "else:\n",
        "  print(f\"Pressão dentro dos padrões\")"
      ],
      "metadata": {
        "colab": {
          "base_uri": "https://localhost:8080/"
        },
        "id": "SVT5TkgAgVyy",
        "outputId": "caf8f817-40fd-41e0-a731-9ed5e24b3eb9"
      },
      "execution_count": 6,
      "outputs": [
        {
          "output_type": "stream",
          "name": "stdout",
          "text": [
            "Insira o volume escoado pelo sistema (em metros cúbicos): 2\n",
            "Insira o tempo decorrido no escoamento desse volume (em segundos): 1\n",
            "Insira a altura da coluna de fluido no tanque (em metros): 14\n",
            "Pressão no tanque:  113511.51 Pa\n",
            "Vazão volumétrica:  2.00 m^3/s\n",
            "Vazão mássica:  1653.00 Kg/s\n",
            "Vazão em peso:  16215.93 N/s\n",
            "Fechar válvula (vazão alta)\n",
            "Liberar pressão pela válvula de escape (pressão no tanque alta)\n"
          ]
        }
      ]
    }
  ]
}